{
  "nbformat": 4,
  "nbformat_minor": 0,
  "metadata": {
    "colab": {
      "name": "colabcat.ipynb",
      "provenance": [],
      "gpuType": "T4",
      "include_colab_link": true
    },
    "kernelspec": {
      "name": "python3",
      "display_name": "Python 3"
    },
    "accelerator": "GPU"
  },
  "cells": [
    {
      "cell_type": "markdown",
      "metadata": {
        "id": "view-in-github",
        "colab_type": "text"
      },
      "source": [
        "<a href=\"https://colab.research.google.com/github/taronhov/C_tasks/blob/master/colabcat.ipynb\" target=\"_parent\"><img src=\"https://colab.research.google.com/assets/colab-badge.svg\" alt=\"Open In Colab\"/></a>"
      ]
    },
    {
      "cell_type": "code",
      "metadata": {
        "id": "qx7jld_zTB1E",
        "outputId": "1fde0101-6ad9-492d-9eec-0e386112cb1a",
        "colab": {
          "base_uri": "https://localhost:8080/"
        }
      },
      "source": [
        "# Check GPU Specs\n",
        "!nvidia-smi"
      ],
      "execution_count": null,
      "outputs": [
        {
          "output_type": "stream",
          "name": "stdout",
          "text": [
            "Sun Nov  3 09:06:44 2024       \n",
            "+---------------------------------------------------------------------------------------+\n",
            "| NVIDIA-SMI 535.104.05             Driver Version: 535.104.05   CUDA Version: 12.2     |\n",
            "|-----------------------------------------+----------------------+----------------------+\n",
            "| GPU  Name                 Persistence-M | Bus-Id        Disp.A | Volatile Uncorr. ECC |\n",
            "| Fan  Temp   Perf          Pwr:Usage/Cap |         Memory-Usage | GPU-Util  Compute M. |\n",
            "|                                         |                      |               MIG M. |\n",
            "|=========================================+======================+======================|\n",
            "|   0  Tesla T4                       Off | 00000000:00:04.0 Off |                    0 |\n",
            "| N/A   41C    P8               9W /  70W |      0MiB / 15360MiB |      0%      Default |\n",
            "|                                         |                      |                  N/A |\n",
            "+-----------------------------------------+----------------------+----------------------+\n",
            "                                                                                         \n",
            "+---------------------------------------------------------------------------------------+\n",
            "| Processes:                                                                            |\n",
            "|  GPU   GI   CI        PID   Type   Process name                            GPU Memory |\n",
            "|        ID   ID                                                             Usage      |\n",
            "|=======================================================================================|\n",
            "|  No running processes found                                                           |\n",
            "+---------------------------------------------------------------------------------------+\n"
          ]
        }
      ]
    },
    {
      "cell_type": "code",
      "metadata": {
        "id": "6FHgYTj3Xb4d",
        "outputId": "26b710e2-b233-4797-81ae-ffaa1fbae3b4",
        "colab": {
          "base_uri": "https://localhost:8080/"
        }
      },
      "source": [
        "# Get hashes to crack\n",
        "# Make a directory called 'dothashcat' in your Google Drive before this\n",
        "# with the 'hashes' subdirectory for storing hashes\n",
        "from google.colab import drive\n",
        "\n",
        "# This will ask you to go to a link and get an authorization code\n",
        "# to let the .hashcat folder get synced to your Google Drive\n",
        "drive.mount('/content/drive')\n",
        "\n",
        "# Make a symbolic link between Google Drive\n",
        "# and the local .hashcat directory\n",
        "!ls /content/drive/My\\ Drive/dothashcat\n",
        "!ln -s /content/drive/My\\ Drive/dothashcat /root/.hashcat"
      ],
      "execution_count": 2,
      "outputs": [
        {
          "output_type": "stream",
          "name": "stdout",
          "text": [
            "Mounted at /content/drive\n",
            "d3adhob0.rule  hashcat-6.2.6.7z  hob064.rule\t\t\t rockyou-75.txt\n",
            "dothashcat     hashes\t\t OneRuleToRuleThemAll.rule_conv  rockyou.txt.tar.gz\n"
          ]
        }
      ]
    },
    {
      "cell_type": "code",
      "metadata": {
        "id": "Q5zVWgXVTc9X",
        "cellView": "both"
      },
      "source": [
        "# Clone, build and install Hashcat\n",
        "#!apt install cmake build-essential -y\n",
        "#!apt install checkinstall git -y\n",
        "#!git clone https://github.com/hashcat/hashcat.git\n",
        "#!cd hashcat && git submodule update --init && make && make install"
      ],
      "execution_count": null,
      "outputs": []
    },
    {
      "cell_type": "code",
      "metadata": {
        "id": "BKcdtozLUe1W",
        "outputId": "306ca8c3-0823-400f-c2b3-4dcd0724a9f9",
        "colab": {
          "base_uri": "https://localhost:8080/"
        }
      },
      "source": [
        "# Check the Hashcat Version to make sure it's installed correctly\n",
        "!pwd\n",
        "!ls -ltr /content/sample_data/\n",
        "!ls -ltr /root/.hashcat/\n",
        "#!7z --help\n",
        "#!7z e /root/.hashcat/hashcat-6.2.6.7z -o./hashcat\n",
        "!rm -rf ./hashcat-6.2.6\n",
        "!7z x /root/.hashcat/hashcat-6.2.6.7z\n",
        "!mv ./hashcat-6.2.6 ./hashcat\n",
        "!ls -ltr ./hashcat\n",
        "!ls -ltr /root/.hashcat/\n",
        "!#cd hashcat && make install\n",
        "!#./hashcat/hashcat.bin --version"
      ],
      "execution_count": 3,
      "outputs": [
        {
          "output_type": "stream",
          "name": "stdout",
          "text": [
            "/content\n",
            "total 55504\n",
            "-rwxr-xr-x 1 root root      962 Jan  1  2000 README.md\n",
            "-rwxr-xr-x 1 root root     1697 Jan  1  2000 anscombe.json\n",
            "-rw-r--r-- 1 root root 36523880 Oct 31 13:28 mnist_train_small.csv\n",
            "-rw-r--r-- 1 root root  1706430 Oct 31 13:28 california_housing_train.csv\n",
            "-rw-r--r-- 1 root root   301141 Oct 31 13:28 california_housing_test.csv\n",
            "-rw-r--r-- 1 root root 18289443 Oct 31 13:28 mnist_test.csv\n",
            "total 73951\n",
            "-rw------- 1 root root 20951515 Nov  2 10:01 hashcat-6.2.6.7z\n",
            "-rw------- 1 root root   595246 Nov  2 19:20 d3adhob0.rule\n",
            "-rw------- 1 root root      587 Nov  2 19:20 hob064.rule\n",
            "drwx------ 2 root root     4096 Nov  3 09:01 hashes\n",
            "lrw------- 1 root root        0 Nov  3 09:06 dothashcat -> /content/drive/MyDrive/dothashcat\n",
            "-rw------- 1 root root 53291283 Nov  3 10:25 rockyou.txt.tar.gz\n",
            "-rw------- 1 root root   478936 Nov  3 10:25 rockyou-75.txt\n",
            "-rw------- 1 root root   402728 Nov  3 10:51 OneRuleToRuleThemAll.rule_conv\n",
            "\n",
            "7-Zip [64] 16.02 : Copyright (c) 1999-2016 Igor Pavlov : 2016-05-21\n",
            "p7zip Version 16.02 (locale=en_US.UTF-8,Utf16=on,HugeFiles=on,64 bits,2 CPUs Intel(R) Xeon(R) CPU @ 2.20GHz (406F0),ASM,AES-NI)\n",
            "\n",
            "Scanning the drive for archives:\n",
            "  0M Scan /root/.hashcat/\b\b\b\b\b\b\b\b\b\b\b\b\b\b\b\b\b\b\b\b\b\b\b\b\b                         \b\b\b\b\b\b\b\b\b\b\b\b\b\b\b\b\b\b\b\b\b\b\b\b\b1 file, 20951515 bytes (20 MiB)\n",
            "\n",
            "Extracting archive: /root/.hashcat/hashcat-6.2.6.7z\n",
            "--\n",
            "Path = /root/.hashcat/hashcat-6.2.6.7z\n",
            "Type = 7z\n",
            "Physical Size = 20951515\n",
            "Headers Size = 19192\n",
            "Method = LZMA2:384m LZMA:20 BCJ2\n",
            "Solid = +\n",
            "Blocks = 2\n",
            "\n",
            "  0%\b\b\b\b    \b\b\b\b  4% 734 - hashcat-6.2.6/OpenCL/m10830_a0-optimized.cl\b\b\b\b\b\b\b\b\b\b\b\b\b\b\b\b\b\b\b\b\b\b\b\b\b\b\b\b\b\b\b\b\b\b\b\b\b\b\b\b\b\b\b\b\b\b\b\b\b\b\b\b\b\b                                                      \b\b\b\b\b\b\b\b\b\b\b\b\b\b\b\b\b\b\b\b\b\b\b\b\b\b\b\b\b\b\b\b\b\b\b\b\b\b\b\b\b\b\b\b\b\b\b\b\b\b\b\b\b\b  8% 1209 - hashcat-6.2.6/OpenCL/m24100-pure.cl\b\b\b\b\b\b\b\b\b\b\b\b\b\b\b\b\b\b\b\b\b\b\b\b\b\b\b\b\b\b\b\b\b\b\b\b\b\b\b\b\b\b\b\b\b\b\b                                               \b\b\b\b\b\b\b\b\b\b\b\b\b\b\b\b\b\b\b\b\b\b\b\b\b\b\b\b\b\b\b\b\b\b\b\b\b\b\b\b\b\b\b\b\b\b\b 16% 1588 - hashcat-6.2.6/modules/module_04110.so\b\b\b\b\b\b\b\b\b\b\b\b\b\b\b\b\b\b\b\b\b\b\b\b\b\b\b\b\b\b\b\b\b\b\b\b\b\b\b\b\b\b\b\b\b\b\b\b\b                                                 \b\b\b\b\b\b\b\b\b\b\b\b\b\b\b\b\b\b\b\b\b\b\b\b\b\b\b\b\b\b\b\b\b\b\b\b\b\b\b\b\b\b\b\b\b\b\b\b\b 32% 1760 - hashcat-6.2.6/modules/module_15700.so\b\b\b\b\b\b\b\b\b\b\b\b\b\b\b\b\b\b\b\b\b\b\b\b\b\b\b\b\b\b\b\b\b\b\b\b\b\b\b\b\b\b\b\b\b\b\b\b\b                                                 \b\b\b\b\b\b\b\b\b\b\b\b\b\b\b\b\b\b\b\b\b\b\b\b\b\b\b\b\b\b\b\b\b\b\b\b\b\b\b\b\b\b\b\b\b\b\b\b\b 42% 1875 - hashcat-6.2.6/modules/module_25700.so\b\b\b\b\b\b\b\b\b\b\b\b\b\b\b\b\b\b\b\b\b\b\b\b\b\b\b\b\b\b\b\b\b\b\b\b\b\b\b\b\b\b\b\b\b\b\b\b\b                                                 \b\b\b\b\b\b\b\b\b\b\b\b\b\b\b\b\b\b\b\b\b\b\b\b\b\b\b\b\b\b\b\b\b\b\b\b\b\b\b\b\b\b\b\b\b\b\b\b\b 52% 1957 - hashcat-6.2.6/modules/module_29521.so\b\b\b\b\b\b\b\b\b\b\b\b\b\b\b\b\b\b\b\b\b\b\b\b\b\b\b\b\b\b\b\b\b\b\b\b\b\b\b\b\b\b\b\b\b\b\b\b\b                                                 \b\b\b\b\b\b\b\b\b\b\b\b\b\b\b\b\b\b\b\b\b\b\b\b\b\b\b\b\b\b\b\b\b\b\b\b\b\b\b\b\b\b\b\b\b\b\b\b\b 55% 2091 - hashcat-6.2.6/hashcat.exe\b\b\b\b\b\b\b\b\b\b\b\b\b\b\b\b\b\b\b\b\b\b\b\b\b\b\b\b\b\b\b\b\b\b\b\b\b                                     \b\b\b\b\b\b\b\b\b\b\b\b\b\b\b\b\b\b\b\b\b\b\b\b\b\b\b\b\b\b\b\b\b\b\b\b\b 64% 2202 - hashcat-6.2.6/modules/module_05600.dll\b\b\b\b\b\b\b\b\b\b\b\b\b\b\b\b\b\b\b\b\b\b\b\b\b\b\b\b\b\b\b\b\b\b\b\b\b\b\b\b\b\b\b\b\b\b\b\b\b\b                                                  \b\b\b\b\b\b\b\b\b\b\b\b\b\b\b\b\b\b\b\b\b\b\b\b\b\b\b\b\b\b\b\b\b\b\b\b\b\b\b\b\b\b\b\b\b\b\b\b\b\b 73% 2321 - hashcat-6.2.6/modules/module_13741.dll\b\b\b\b\b\b\b\b\b\b\b\b\b\b\b\b\b\b\b\b\b\b\b\b\b\b\b\b\b\b\b\b\b\b\b\b\b\b\b\b\b\b\b\b\b\b\b\b\b\b                                                  \b\b\b\b\b\b\b\b\b\b\b\b\b\b\b\b\b\b\b\b\b\b\b\b\b\b\b\b\b\b\b\b\b\b\b\b\b\b\b\b\b\b\b\b\b\b\b\b\b\b 82% 2438 - hashcat-6.2.6/modules/module_22941.dll\b\b\b\b\b\b\b\b\b\b\b\b\b\b\b\b\b\b\b\b\b\b\b\b\b\b\b\b\b\b\b\b\b\b\b\b\b\b\b\b\b\b\b\b\b\b\b\b\b\b                                                  \b\b\b\b\b\b\b\b\b\b\b\b\b\b\b\b\b\b\b\b\b\b\b\b\b\b\b\b\b\b\b\b\b\b\b\b\b\b\b\b\b\b\b\b\b\b\b\b\b\b 94% 2512 - hashcat-6.2.6/modules/module_29311.dll\b\b\b\b\b\b\b\b\b\b\b\b\b\b\b\b\b\b\b\b\b\b\b\b\b\b\b\b\b\b\b\b\b\b\b\b\b\b\b\b\b\b\b\b\b\b\b\b\b\b                                                  \b\b\b\b\b\b\b\b\b\b\b\b\b\b\b\b\b\b\b\b\b\b\b\b\b\b\b\b\b\b\b\b\b\b\b\b\b\b\b\b\b\b\b\b\b\b\b\b\b\bEverything is Ok\n",
            "\n",
            "Folders: 46\n",
            "Files: 2519\n",
            "Size:       279323735\n",
            "Compressed: 20951515\n",
            "total 4248\n",
            "drwxr-xr-x 2 root root   36864 Sep  2  2022 modules\n",
            "-rw-r--r-- 1 root root  240526 Sep  2  2022 hashcat.hcstat2\n",
            "-rw-r--r-- 1 root root 1437184 Sep  2  2022 hashcat.exe\n",
            "-rwxr-xr-x 1 root root 1215952 Sep  2  2022 hashcat.bin\n",
            "drwxr-xr-x 3 root root    4096 Sep  2  2022 extra\n",
            "drwxr-xr-x 6 root root    4096 Sep  2  2022 charsets\n",
            "drwxr-xr-x 2 root root    4096 Sep  2  2022 tunings\n",
            "drwxr-xr-x 2 root root    4096 Sep  2  2022 tools\n",
            "drwxr-xr-x 3 root root    4096 Sep  2  2022 rules\n",
            "drwxr-xr-x 2 root root   61440 Sep  2  2022 OpenCL\n",
            "drwxr-xr-x 2 root root    4096 Sep  2  2022 masks\n",
            "drwxr-xr-x 2 root root    4096 Sep  2  2022 layouts\n",
            "-rw-r--r-- 1 root root 1069601 Sep  2  2022 example.dict\n",
            "-rwxr-xr-x 1 root root      50 Sep  2  2022 example500.sh\n",
            "-rw-r--r-- 1 root root      35 Sep  2  2022 example500.hash\n",
            "-rw-r--r-- 1 root root      56 Sep  2  2022 example500.cmd\n",
            "-rwxr-xr-x 1 root root      56 Sep  2  2022 example400.sh\n",
            "-rw-r--r-- 1 root root      35 Sep  2  2022 example400.hash\n",
            "-rw-r--r-- 1 root root      63 Sep  2  2022 example400.cmd\n",
            "-rwxr-xr-x 1 root root      66 Sep  2  2022 example0.sh\n",
            "-rw-r--r-- 1 root root  214302 Sep  2  2022 example0.hash\n",
            "-rw-r--r-- 1 root root      72 Sep  2  2022 example0.cmd\n",
            "drwxr-xr-x 3 root root    4096 Sep  2  2022 docs\n",
            "total 73951\n",
            "-rw------- 1 root root 20951515 Nov  2 10:01 hashcat-6.2.6.7z\n",
            "-rw------- 1 root root   595246 Nov  2 19:20 d3adhob0.rule\n",
            "-rw------- 1 root root      587 Nov  2 19:20 hob064.rule\n",
            "drwx------ 2 root root     4096 Nov  3 09:01 hashes\n",
            "lrw------- 1 root root        0 Nov  3 09:06 dothashcat -> /content/drive/MyDrive/dothashcat\n",
            "-rw------- 1 root root 53291283 Nov  3 10:25 rockyou.txt.tar.gz\n",
            "-rw------- 1 root root   478936 Nov  3 10:25 rockyou-75.txt\n",
            "-rw------- 1 root root   402728 Nov  3 10:51 OneRuleToRuleThemAll.rule_conv\n"
          ]
        }
      ]
    },
    {
      "cell_type": "code",
      "metadata": {
        "id": "UFwpl__HVvJ3"
      },
      "source": [
        "# WPA2 EAPOL Benchmark (change this to check the speed of whichever hash you're cracking)\n",
        "#!hashcat -w 4 -m 500 --benchmark\n",
        "#!./hashcat/hashcat.bin -w 4 -m 500 --benchmark"
      ],
      "execution_count": 7,
      "outputs": []
    },
    {
      "cell_type": "code",
      "metadata": {
        "id": "5fmoX1ku_PsU",
        "outputId": "43379c1a-e769-4d0f-ef2d-35fd3a55873c",
        "colab": {
          "base_uri": "https://localhost:8080/"
        }
      },
      "source": [
        "# Get wordlists\n",
        "!mkdir /root/wordlists && cd /root/wordlists\n",
        "\n",
        "# Clone the SecLists repository\n",
        "#!git clone https://github.com/danielmiessler/SecLists /root/wordlists/SecLists\n",
        "\n",
        "# Append 'hashcat' for demonstration purposes\n",
        "#!echo \"hashcat!\" >> /root/wordlists/SecLists/Passwords/Leaked-Databases/rockyou-75.txt\n",
        "\n",
        "#!ls /root/wordlists/SecLists\n",
        "\n",
        "!ls /root/wordlists/\n",
        "!cp /root/.hashcat/rockyou-75.txt /root/wordlists/\n",
        "!cp /root/.hashcat/rockyou.txt.tar.gz /root/wordlists/\n",
        "!ls /root/wordlists\n",
        "\n",
        "# demonstration purposes\n",
        "#!./hashcat/hashcat.bin -a 0 -m 500 -O -r ./hashcat/rules/best64.rule /root/.hashcat/hashes/pass_hash_short.txt /root/wordlists/rockyou-75.txt"
      ],
      "execution_count": 4,
      "outputs": [
        {
          "output_type": "stream",
          "name": "stdout",
          "text": [
            "rockyou-75.txt\trockyou.txt.tar.gz\n"
          ]
        }
      ]
    },
    {
      "cell_type": "code",
      "metadata": {
        "id": "yIkXZRlEFUIz",
        "colab": {
          "base_uri": "https://localhost:8080/"
        },
        "outputId": "c14f5ad2-8903-4a3c-de70-752863e8b59b"
      },
      "source": [
        "# Check that your hashes are accessible to Colab\n",
        "!ls /root/.hashcat/hashes"
      ],
      "execution_count": null,
      "outputs": [
        {
          "output_type": "stream",
          "name": "stdout",
          "text": [
            "pass_hash_short.txt\n"
          ]
        }
      ]
    },
    {
      "cell_type": "code",
      "metadata": {
        "id": "iLqp5xQCXwiq",
        "outputId": "1eef67fc-0153-4133-d30f-3f70aaab2d13",
        "colab": {
          "base_uri": "https://localhost:8080/"
        }
      },
      "source": [
        "# Start pure brute force cracking with a session name\n",
        "# !hashcat -m 2500 -a3 --session $SESSION /root/.hashcat/hashes/test.hccapx\n",
        "# !hashcat -m 2500 /root/.hashcat/hashes/test.hccapx -a 3 -w 4 --session test-session\n",
        "\n",
        "# Restore the session\n",
        "# !hashcat --session $SESSION --restore\n",
        "\n",
        "# Crack with a wordlist\n",
        "#!hashcat -m 2500 /root/.hashcat/hashes/test.hccapx /root/wordlists/SecLists/Passwords/Leaked-Databases/rockyou-75.txt\n",
        "\n",
        "!which ./hashcat/hashcat.bin\n",
        "#!./hashcat/hashcat.bin -a 0 -m 500 -O -r /root/.hashcat/OneRuleToRuleThemAll.rule_conv /root/.hashcat/hashes/pass_hash_short.txt /root/wordlists/rockyou.txt.tar.gz\n",
        "#!./hashcat/hashcat.bin -a 0 -m 500 -O -r /root/.hashcat/d3adhob0.rule /root/.hashcat/hashes/pass_hash_short.txt /root/wordlists/rockyou.txt.tar.gz\n",
        "!./hashcat/hashcat.bin -a 0 -m 500 -O -r /root/.hashcat/OneRuleToRuleThemStill.rule /root/.hashcat/hashes/pass_hash_short.txt /root/wordlists/rockyou.txt.tar.gz"
      ],
      "execution_count": null,
      "outputs": [
        {
          "output_type": "stream",
          "name": "stdout",
          "text": [
            "./hashcat/hashcat.bin\n",
            "hashcat (v6.2.6) starting\n",
            "\n",
            "\u001b[31mclGetPlatformIDs(): CL_PLATFORM_NOT_FOUND_KHR\u001b[0m\n",
            "\n",
            "\u001b[31mnvmlDeviceGetFanSpeed(): Not Supported\u001b[0m\n",
            "\n",
            "CUDA API (CUDA 12.2)\n",
            "====================\n",
            "* Device #1: Tesla T4, 14999/15102 MB, 40MCU\n",
            "\n",
            "Minimum password length supported by kernel: 0\n",
            "Maximum password length supported by kernel: 15\n",
            "\n",
            "Hashes: 2 digests; 2 unique digests, 2 unique salts\n",
            "Bitmaps: 16 bits, 65536 entries, 0x0000ffff mask, 262144 bytes, 5/13 rotates\n",
            "Rules: 57540\n",
            "\n",
            "Optimizers applied:\n",
            "* Optimized-Kernel\n",
            "* Zero-Byte\n",
            "\n",
            "Watchdog: Temperature abort trigger set to 90c\n",
            "\n",
            "Host memory required for this attack: 1470 MB\n",
            "\n",
            "Dictionary cache built:\n",
            "* Filename..: /root/wordlists/rockyou.txt.tar.gz\n",
            "* Passwords.: 14344392\n",
            "* Bytes.....: 139923457\n",
            "* Keyspace..: 825375797820\n",
            "* Runtime...: 2 secs\n",
            "\n",
            "\u001b[33mCracking performance lower than expected?\u001b[0m\n",
            "\u001b[33m\u001b[0m\n",
            "\u001b[33m* Append -w 3 to the commandline.\u001b[0m\n",
            "\u001b[33m  This can cause your screen to lag.\u001b[0m\n",
            "\u001b[33m\u001b[0m\n",
            "\u001b[33m* Append -S to the commandline.\u001b[0m\n",
            "\u001b[33m  This has a drastic speed impact but can be better for specific attacks.\u001b[0m\n",
            "\u001b[33m  Typical scenarios are a small wordlist but a large ruleset.\u001b[0m\n",
            "\u001b[33m\u001b[0m\n",
            "\u001b[33m* Update your backend API runtime / driver the right way:\u001b[0m\n",
            "\u001b[33m  https://hashcat.net/faq/wrongdriver\u001b[0m\n",
            "\u001b[33m\u001b[0m\n",
            "\u001b[33m* Create more work items to make use of your parallelization power:\u001b[0m\n",
            "\u001b[33m  https://hashcat.net/faq/morework\u001b[0m\n",
            "\u001b[33m\u001b[0m\n",
            "[s]tatus [p]ause [b]ypass [c]heckpoint [f]inish [q]uit => s\n",
            "\n",
            "\n",
            "Session..........: hashcat\n",
            "Status...........: Running\n",
            "Hash.Mode........: 500 (md5crypt, MD5 (Unix), Cisco-IOS $1$ (MD5))\n",
            "Hash.Target......: /root/.hashcat/hashes/pass_hash_short.txt\n",
            "Time.Started.....: Sun Nov  3 11:00:18 2024 (28 secs)\n",
            "Time.Estimated...: Wed Nov  6 02:14:12 2024 (2 days, 15 hours)\n",
            "Kernel.Feature...: Optimized Kernel\n",
            "Guess.Base.......: File (/root/wordlists/rockyou.txt.tar.gz)\n",
            "Guess.Mod........: Rules (/root/.hashcat/d3adhob0.rule)\n",
            "Guess.Queue......: 1/1 (100.00%)\n",
            "Speed.#1.........:  7251.6 kH/s (8.55ms) @ Accel:128 Loops:250 Thr:64 Vec:1\n",
            "Recovered........: 0/2 (0.00%) Digests (total), 0/2 (0.00%) Digests (new), 0/2 (0.00%) Salts\n",
            "Progress.........: 236544520/1650751595640 (0.01%)\n",
            "Rejected.........: 31416840/236544520 (13.28%)\n",
            "Restore.Point....: 0/14344383 (0.00%)\n",
            "Restore.Sub.#1...: Salt:0 Amplifier:626-627 Iteration:500-750\n",
            "Candidate.Engine.: Device Generator\n",
            "Candidates.#1....: 123450622 -> 000060622\n",
            "Hardware.Mon.#1..: Temp: 59c Util: 98% Core:1320MHz Mem:5000MHz Bus:16\n",
            "\n",
            "[s]tatus [p]ause [b]ypass [c]heckpoint [f]inish [q]uit => "
          ]
        }
      ]
    },
    {
      "cell_type": "code",
      "metadata": {
        "id": "HrMTWTx2LUqP",
        "outputId": "31d9041d-1d73-405d-e35e-511127dc500d",
        "colab": {
          "resources": {
            "http://localhost:8080/nbextensions/google.colab/files.js": {
              "data": "Ly8gQ29weXJpZ2h0IDIwMTcgR29vZ2xlIExMQwovLwovLyBMaWNlbnNlZCB1bmRlciB0aGUgQXBhY2hlIExpY2Vuc2UsIFZlcnNpb24gMi4wICh0aGUgIkxpY2Vuc2UiKTsKLy8geW91IG1heSBub3QgdXNlIHRoaXMgZmlsZSBleGNlcHQgaW4gY29tcGxpYW5jZSB3aXRoIHRoZSBMaWNlbnNlLgovLyBZb3UgbWF5IG9idGFpbiBhIGNvcHkgb2YgdGhlIExpY2Vuc2UgYXQKLy8KLy8gICAgICBodHRwOi8vd3d3LmFwYWNoZS5vcmcvbGljZW5zZXMvTElDRU5TRS0yLjAKLy8KLy8gVW5sZXNzIHJlcXVpcmVkIGJ5IGFwcGxpY2FibGUgbGF3IG9yIGFncmVlZCB0byBpbiB3cml0aW5nLCBzb2Z0d2FyZQovLyBkaXN0cmlidXRlZCB1bmRlciB0aGUgTGljZW5zZSBpcyBkaXN0cmlidXRlZCBvbiBhbiAiQVMgSVMiIEJBU0lTLAovLyBXSVRIT1VUIFdBUlJBTlRJRVMgT1IgQ09ORElUSU9OUyBPRiBBTlkgS0lORCwgZWl0aGVyIGV4cHJlc3Mgb3IgaW1wbGllZC4KLy8gU2VlIHRoZSBMaWNlbnNlIGZvciB0aGUgc3BlY2lmaWMgbGFuZ3VhZ2UgZ292ZXJuaW5nIHBlcm1pc3Npb25zIGFuZAovLyBsaW1pdGF0aW9ucyB1bmRlciB0aGUgTGljZW5zZS4KCi8qKgogKiBAZmlsZW92ZXJ2aWV3IEhlbHBlcnMgZm9yIGdvb2dsZS5jb2xhYiBQeXRob24gbW9kdWxlLgogKi8KKGZ1bmN0aW9uKHNjb3BlKSB7CmZ1bmN0aW9uIHNwYW4odGV4dCwgc3R5bGVBdHRyaWJ1dGVzID0ge30pIHsKICBjb25zdCBlbGVtZW50ID0gZG9jdW1lbnQuY3JlYXRlRWxlbWVudCgnc3BhbicpOwogIGVsZW1lbnQudGV4dENvbnRlbnQgPSB0ZXh0OwogIGZvciAoY29uc3Qga2V5IG9mIE9iamVjdC5rZXlzKHN0eWxlQXR0cmlidXRlcykpIHsKICAgIGVsZW1lbnQuc3R5bGVba2V5XSA9IHN0eWxlQXR0cmlidXRlc1trZXldOwogIH0KICByZXR1cm4gZWxlbWVudDsKfQoKLy8gTWF4IG51bWJlciBvZiBieXRlcyB3aGljaCB3aWxsIGJlIHVwbG9hZGVkIGF0IGEgdGltZS4KY29uc3QgTUFYX1BBWUxPQURfU0laRSA9IDEwMCAqIDEwMjQ7CgpmdW5jdGlvbiBfdXBsb2FkRmlsZXMoaW5wdXRJZCwgb3V0cHV0SWQpIHsKICBjb25zdCBzdGVwcyA9IHVwbG9hZEZpbGVzU3RlcChpbnB1dElkLCBvdXRwdXRJZCk7CiAgY29uc3Qgb3V0cHV0RWxlbWVudCA9IGRvY3VtZW50LmdldEVsZW1lbnRCeUlkKG91dHB1dElkKTsKICAvLyBDYWNoZSBzdGVwcyBvbiB0aGUgb3V0cHV0RWxlbWVudCB0byBtYWtlIGl0IGF2YWlsYWJsZSBmb3IgdGhlIG5leHQgY2FsbAogIC8vIHRvIHVwbG9hZEZpbGVzQ29udGludWUgZnJvbSBQeXRob24uCiAgb3V0cHV0RWxlbWVudC5zdGVwcyA9IHN0ZXBzOwoKICByZXR1cm4gX3VwbG9hZEZpbGVzQ29udGludWUob3V0cHV0SWQpOwp9CgovLyBUaGlzIGlzIHJvdWdobHkgYW4gYXN5bmMgZ2VuZXJhdG9yIChub3Qgc3VwcG9ydGVkIGluIHRoZSBicm93c2VyIHlldCksCi8vIHdoZXJlIHRoZXJlIGFyZSBtdWx0aXBsZSBhc3luY2hyb25vdXMgc3RlcHMgYW5kIHRoZSBQeXRob24gc2lkZSBpcyBnb2luZwovLyB0byBwb2xsIGZvciBjb21wbGV0aW9uIG9mIGVhY2ggc3RlcC4KLy8gVGhpcyB1c2VzIGEgUHJvbWlzZSB0byBibG9jayB0aGUgcHl0aG9uIHNpZGUgb24gY29tcGxldGlvbiBvZiBlYWNoIHN0ZXAsCi8vIHRoZW4gcGFzc2VzIHRoZSByZXN1bHQgb2YgdGhlIHByZXZpb3VzIHN0ZXAgYXMgdGhlIGlucHV0IHRvIHRoZSBuZXh0IHN0ZXAuCmZ1bmN0aW9uIF91cGxvYWRGaWxlc0NvbnRpbnVlKG91dHB1dElkKSB7CiAgY29uc3Qgb3V0cHV0RWxlbWVudCA9IGRvY3VtZW50LmdldEVsZW1lbnRCeUlkKG91dHB1dElkKTsKICBjb25zdCBzdGVwcyA9IG91dHB1dEVsZW1lbnQuc3RlcHM7CgogIGNvbnN0IG5leHQgPSBzdGVwcy5uZXh0KG91dHB1dEVsZW1lbnQubGFzdFByb21pc2VWYWx1ZSk7CiAgcmV0dXJuIFByb21pc2UucmVzb2x2ZShuZXh0LnZhbHVlLnByb21pc2UpLnRoZW4oKHZhbHVlKSA9PiB7CiAgICAvLyBDYWNoZSB0aGUgbGFzdCBwcm9taXNlIHZhbHVlIHRvIG1ha2UgaXQgYXZhaWxhYmxlIHRvIHRoZSBuZXh0CiAgICAvLyBzdGVwIG9mIHRoZSBnZW5lcmF0b3IuCiAgICBvdXRwdXRFbGVtZW50Lmxhc3RQcm9taXNlVmFsdWUgPSB2YWx1ZTsKICAgIHJldHVybiBuZXh0LnZhbHVlLnJlc3BvbnNlOwogIH0pOwp9CgovKioKICogR2VuZXJhdG9yIGZ1bmN0aW9uIHdoaWNoIGlzIGNhbGxlZCBiZXR3ZWVuIGVhY2ggYXN5bmMgc3RlcCBvZiB0aGUgdXBsb2FkCiAqIHByb2Nlc3MuCiAqIEBwYXJhbSB7c3RyaW5nfSBpbnB1dElkIEVsZW1lbnQgSUQgb2YgdGhlIGlucHV0IGZpbGUgcGlja2VyIGVsZW1lbnQuCiAqIEBwYXJhbSB7c3RyaW5nfSBvdXRwdXRJZCBFbGVtZW50IElEIG9mIHRoZSBvdXRwdXQgZGlzcGxheS4KICogQHJldHVybiB7IUl0ZXJhYmxlPCFPYmplY3Q+fSBJdGVyYWJsZSBvZiBuZXh0IHN0ZXBzLgogKi8KZnVuY3Rpb24qIHVwbG9hZEZpbGVzU3RlcChpbnB1dElkLCBvdXRwdXRJZCkgewogIGNvbnN0IGlucHV0RWxlbWVudCA9IGRvY3VtZW50LmdldEVsZW1lbnRCeUlkKGlucHV0SWQpOwogIGlucHV0RWxlbWVudC5kaXNhYmxlZCA9IGZhbHNlOwoKICBjb25zdCBvdXRwdXRFbGVtZW50ID0gZG9jdW1lbnQuZ2V0RWxlbWVudEJ5SWQob3V0cHV0SWQpOwogIG91dHB1dEVsZW1lbnQuaW5uZXJIVE1MID0gJyc7CgogIGNvbnN0IHBpY2tlZFByb21pc2UgPSBuZXcgUHJvbWlzZSgocmVzb2x2ZSkgPT4gewogICAgaW5wdXRFbGVtZW50LmFkZEV2ZW50TGlzdGVuZXIoJ2NoYW5nZScsIChlKSA9PiB7CiAgICAgIHJlc29sdmUoZS50YXJnZXQuZmlsZXMpOwogICAgfSk7CiAgfSk7CgogIGNvbnN0IGNhbmNlbCA9IGRvY3VtZW50LmNyZWF0ZUVsZW1lbnQoJ2J1dHRvbicpOwogIGlucHV0RWxlbWVudC5wYXJlbnRFbGVtZW50LmFwcGVuZENoaWxkKGNhbmNlbCk7CiAgY2FuY2VsLnRleHRDb250ZW50ID0gJ0NhbmNlbCB1cGxvYWQnOwogIGNvbnN0IGNhbmNlbFByb21pc2UgPSBuZXcgUHJvbWlzZSgocmVzb2x2ZSkgPT4gewogICAgY2FuY2VsLm9uY2xpY2sgPSAoKSA9PiB7CiAgICAgIHJlc29sdmUobnVsbCk7CiAgICB9OwogIH0pOwoKICAvLyBXYWl0IGZvciB0aGUgdXNlciB0byBwaWNrIHRoZSBmaWxlcy4KICBjb25zdCBmaWxlcyA9IHlpZWxkIHsKICAgIHByb21pc2U6IFByb21pc2UucmFjZShbcGlja2VkUHJvbWlzZSwgY2FuY2VsUHJvbWlzZV0pLAogICAgcmVzcG9uc2U6IHsKICAgICAgYWN0aW9uOiAnc3RhcnRpbmcnLAogICAgfQogIH07CgogIGNhbmNlbC5yZW1vdmUoKTsKCiAgLy8gRGlzYWJsZSB0aGUgaW5wdXQgZWxlbWVudCBzaW5jZSBmdXJ0aGVyIHBpY2tzIGFyZSBub3QgYWxsb3dlZC4KICBpbnB1dEVsZW1lbnQuZGlzYWJsZWQgPSB0cnVlOwoKICBpZiAoIWZpbGVzKSB7CiAgICByZXR1cm4gewogICAgICByZXNwb25zZTogewogICAgICAgIGFjdGlvbjogJ2NvbXBsZXRlJywKICAgICAgfQogICAgfTsKICB9CgogIGZvciAoY29uc3QgZmlsZSBvZiBmaWxlcykgewogICAgY29uc3QgbGkgPSBkb2N1bWVudC5jcmVhdGVFbGVtZW50KCdsaScpOwogICAgbGkuYXBwZW5kKHNwYW4oZmlsZS5uYW1lLCB7Zm9udFdlaWdodDogJ2JvbGQnfSkpOwogICAgbGkuYXBwZW5kKHNwYW4oCiAgICAgICAgYCgke2ZpbGUudHlwZSB8fCAnbi9hJ30pIC0gJHtmaWxlLnNpemV9IGJ5dGVzLCBgICsKICAgICAgICBgbGFzdCBtb2RpZmllZDogJHsKICAgICAgICAgICAgZmlsZS5sYXN0TW9kaWZpZWREYXRlID8gZmlsZS5sYXN0TW9kaWZpZWREYXRlLnRvTG9jYWxlRGF0ZVN0cmluZygpIDoKICAgICAgICAgICAgICAgICAgICAgICAgICAgICAgICAgICAgJ24vYSd9IC0gYCkpOwogICAgY29uc3QgcGVyY2VudCA9IHNwYW4oJzAlIGRvbmUnKTsKICAgIGxpLmFwcGVuZENoaWxkKHBlcmNlbnQpOwoKICAgIG91dHB1dEVsZW1lbnQuYXBwZW5kQ2hpbGQobGkpOwoKICAgIGNvbnN0IGZpbGVEYXRhUHJvbWlzZSA9IG5ldyBQcm9taXNlKChyZXNvbHZlKSA9PiB7CiAgICAgIGNvbnN0IHJlYWRlciA9IG5ldyBGaWxlUmVhZGVyKCk7CiAgICAgIHJlYWRlci5vbmxvYWQgPSAoZSkgPT4gewogICAgICAgIHJlc29sdmUoZS50YXJnZXQucmVzdWx0KTsKICAgICAgfTsKICAgICAgcmVhZGVyLnJlYWRBc0FycmF5QnVmZmVyKGZpbGUpOwogICAgfSk7CiAgICAvLyBXYWl0IGZvciB0aGUgZGF0YSB0byBiZSByZWFkeS4KICAgIGxldCBmaWxlRGF0YSA9IHlpZWxkIHsKICAgICAgcHJvbWlzZTogZmlsZURhdGFQcm9taXNlLAogICAgICByZXNwb25zZTogewogICAgICAgIGFjdGlvbjogJ2NvbnRpbnVlJywKICAgICAgfQogICAgfTsKCiAgICAvLyBVc2UgYSBjaHVua2VkIHNlbmRpbmcgdG8gYXZvaWQgbWVzc2FnZSBzaXplIGxpbWl0cy4gU2VlIGIvNjIxMTU2NjAuCiAgICBsZXQgcG9zaXRpb24gPSAwOwogICAgd2hpbGUgKHBvc2l0aW9uIDwgZmlsZURhdGEuYnl0ZUxlbmd0aCkgewogICAgICBjb25zdCBsZW5ndGggPSBNYXRoLm1pbihmaWxlRGF0YS5ieXRlTGVuZ3RoIC0gcG9zaXRpb24sIE1BWF9QQVlMT0FEX1NJWkUpOwogICAgICBjb25zdCBjaHVuayA9IG5ldyBVaW50OEFycmF5KGZpbGVEYXRhLCBwb3NpdGlvbiwgbGVuZ3RoKTsKICAgICAgcG9zaXRpb24gKz0gbGVuZ3RoOwoKICAgICAgY29uc3QgYmFzZTY0ID0gYnRvYShTdHJpbmcuZnJvbUNoYXJDb2RlLmFwcGx5KG51bGwsIGNodW5rKSk7CiAgICAgIHlpZWxkIHsKICAgICAgICByZXNwb25zZTogewogICAgICAgICAgYWN0aW9uOiAnYXBwZW5kJywKICAgICAgICAgIGZpbGU6IGZpbGUubmFtZSwKICAgICAgICAgIGRhdGE6IGJhc2U2NCwKICAgICAgICB9LAogICAgICB9OwogICAgICBwZXJjZW50LnRleHRDb250ZW50ID0KICAgICAgICAgIGAke01hdGgucm91bmQoKHBvc2l0aW9uIC8gZmlsZURhdGEuYnl0ZUxlbmd0aCkgKiAxMDApfSUgZG9uZWA7CiAgICB9CiAgfQoKICAvLyBBbGwgZG9uZS4KICB5aWVsZCB7CiAgICByZXNwb25zZTogewogICAgICBhY3Rpb246ICdjb21wbGV0ZScsCiAgICB9CiAgfTsKfQoKc2NvcGUuZ29vZ2xlID0gc2NvcGUuZ29vZ2xlIHx8IHt9OwpzY29wZS5nb29nbGUuY29sYWIgPSBzY29wZS5nb29nbGUuY29sYWIgfHwge307CnNjb3BlLmdvb2dsZS5jb2xhYi5fZmlsZXMgPSB7CiAgX3VwbG9hZEZpbGVzLAogIF91cGxvYWRGaWxlc0NvbnRpbnVlLAp9Owp9KShzZWxmKTsK",
              "ok": true,
              "headers": [
                [
                  "content-type",
                  "application/javascript"
                ]
              ],
              "status": 200,
              "status_text": ""
            }
          },
          "base_uri": "https://localhost:8080/",
          "height": 106
        }
      },
      "source": [
        "# creating new directory to store cap files\n",
        "!mkdir cap_files\n",
        "# uploading cap\n",
        "from google.colab import files\n",
        "\n",
        "uploaded = files.upload()\n",
        "\n",
        "for f_name in uploaded.keys():\n",
        "  print('User uploaded file \"{name}\" with length {length} bytes'.format(name=f_name, length=len(uploaded[f_name])))\n",
        "\n",
        "!mv {f_name} \"/content/cap_files/{f_name}\""
      ],
      "execution_count": null,
      "outputs": [
        {
          "output_type": "stream",
          "text": [
            "mkdir: cannot create directory ‘cap_files’: File exists\n"
          ],
          "name": "stdout"
        },
        {
          "output_type": "display_data",
          "data": {
            "text/html": [
              "\n",
              "     <input type=\"file\" id=\"files-ffd2464e-4a2d-4086-bd09-195cef58672f\" name=\"files[]\" multiple disabled\n",
              "        style=\"border:none\" />\n",
              "     <output id=\"result-ffd2464e-4a2d-4086-bd09-195cef58672f\">\n",
              "      Upload widget is only available when the cell has been executed in the\n",
              "      current browser session. Please rerun this cell to enable.\n",
              "      </output>\n",
              "      <script src=\"/nbextensions/google.colab/files.js\"></script> "
            ],
            "text/plain": [
              "<IPython.core.display.HTML object>"
            ]
          },
          "metadata": {
            "tags": []
          }
        },
        {
          "output_type": "stream",
          "text": [
            "Saving vass.hccapx to vass.hccapx\n",
            "User uploaded file \"vass.hccapx\" with length 786 bytes\n"
          ],
          "name": "stdout"
        }
      ]
    },
    {
      "cell_type": "code",
      "metadata": {
        "id": "uUrjIEd0ALR-"
      },
      "source": [
        "import glob\n",
        "import subprocess\n",
        "import re\n",
        "from tqdm import tqdm\n",
        "is_cracked = False\n",
        "wordlists = list()\n",
        "for wordlist in glob.glob('/root/wordlists/SecLists/Passwords/Common-Credentials/*'):\n",
        "  wordlists.append(wordlist)\n",
        "for wordlist in glob.glob('/root/wordlists/SecLists/Passwords/Cracked-Hashes/milw0rm-dictionary.txt'):\n",
        "  wordlists.append(wordlist)\n",
        "for wordlist in glob.glob('/root/wordlists/SecLists/Passwords/Default-Credentials/*'):\n",
        "  wordlists.append(wordlist)\n",
        "for wordlist in glob.glob('/root/wordlists/SecLists/Passwords/Honeypot-Captures/*'):\n",
        "  wordlists.append(wordlist)\n",
        "for wordlist in glob.glob('/root/wordlists/SecLists/Passwords/Leaked-Databases/*'):\n",
        "  wordlists.append(wordlist)\n",
        "for wordlist in glob.glob('/root/wordlists/SecLists/Passwords/Malware/*'):\n",
        "  wordlists.append(wordlist)\n",
        "for wordlist in glob.glob('/root/wordlists/SecLists/Passwords/WiFi-WPA/*'):\n",
        "  wordlists.append(wordlist)\n",
        "for wordlist in glob.glob('/root/wordlists/SecLists/Passwords/Software/*'):\n",
        "  wordlists.append(wordlist)\n",
        "for wordlist in glob.glob('/root/wordlists/SecLists/Passwords/*.txt'):\n",
        "  wordlists.append(wordlist)"
      ],
      "execution_count": null,
      "outputs": []
    },
    {
      "cell_type": "code",
      "metadata": {
        "id": "_4oUnuulDZw-"
      },
      "source": [
        "def check_if_cracked(command):\n",
        "  output = subprocess.check_output([command + \" --show\"], shell=True).decode()\n",
        "  if len(output) == 0:\n",
        "    return False\n",
        "  else:\n",
        "    return True\n",
        "\n"
      ],
      "execution_count": null,
      "outputs": []
    },
    {
      "cell_type": "code",
      "metadata": {
        "id": "2LWlGdbKCT2c"
      },
      "source": [
        "cap_file = f\"/content/cap_files/{f_name} \"\n",
        "for wordlist in tqdm(wordlists):\n",
        "  command = 'hashcat -m 2500 ' + cap_file + wordlist\n",
        "  subprocess.call([command],shell=True)\n",
        "  if check_if_cracked(command):\n",
        "    is_cracked = True\n",
        "  if is_cracked:\n",
        "    print(\"Password is cracked!!\")\n",
        "    cracked_password = subprocess.check_output([command + \" --show\"], shell=True).decode()\n",
        "    cracked_password = cracked_password.split(':')[-1]\n",
        "    print(f\"Password : {cracked_password}\")\n",
        "    print(f\"wordlist used : {wordlist}\")\n",
        "    break\n",
        "  else:\n",
        "    continue\n",
        "\n",
        "if is_cracked == False:\n",
        "  print(\"Password was not found in SecLists\")\n",
        "else:\n",
        "  pass"
      ],
      "execution_count": null,
      "outputs": []
    }
  ]
}